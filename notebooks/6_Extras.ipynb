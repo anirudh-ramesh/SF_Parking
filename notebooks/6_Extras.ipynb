{
 "cells": [
  {
   "cell_type": "markdown",
   "metadata": {},
   "source": [
    "# San Francisco Parking Exploratory Data Analysis\n",
    "this notebook explores a few extra features I added to the project. This notebook will contain \n",
    "-Live graph of tickets over a single day\n",
    "-Plotting Recently cleaned Streets\n",
    "-Estimated Sweeping Time\n",
    "\n",
    "The scripts also add on this, plotting and making videos of the street sweepers routes, and plotting the estimated model output. \n"
   ]
  },
  {
   "cell_type": "code",
   "execution_count": null,
   "metadata": {},
   "outputs": [],
   "source": [
    "import pandas as pd\n",
    "import matplotlib.pyplot as plt\n",
    "import matplotlib \n",
    "import numpy as np\n",
    "import datetime as dt\n",
    "import time\n",
    "from scipy import stats\n",
    "import geopandas as gpd\n",
    "import sqlite3\n",
    "import math\n",
    "from shapely.geometry import Point\n",
    "from geopandas import GeoSeries, GeoDataFrame\n",
    "import mplleaflet\n",
    "\n",
    "%matplotlib inline\n",
    "\n",
    "project_folder = '/home/colin/Desktop/SF_Parking/'\n",
    "raw_folder = project_folder + 'data/raw/'\n",
    "proc_folder = project_folder + 'data/processed/'\n",
    "image_folder = project_folder + 'reports/figures/analysis/'\n",
    "\n",
    "def result_query(querystring):\n",
    "    resultdf = pd.read_sql(sql= querystring, con = conn)\n",
    "    \n",
    "    return resultdf\n",
    "\n",
    "conn = sqlite3.connect(proc_folder + 'SF_Parking.db')\n",
    "c = conn.cursor()\n",
    "\n"
   ]
  },
  {
   "cell_type": "markdown",
   "metadata": {},
   "source": [
    "# Live Graph\n",
    "We can use the matplotlib animation to show where tickets happened throughout the day given any specific day in time. I just think this one would be cool, no particular help or exploratory value. Because we would like to separate ticket type by colors, all else other than the top 5 will be one color. "
   ]
  },
  {
   "cell_type": "code",
   "execution_count": null,
   "metadata": {},
   "outputs": [],
   "source": [
    "by_day = result_query(\"Select  strftime('%d-%m-%Y', TickIssueDate), count(*) as total_tickets \"\n",
    "                      \"from ticket_data group by  strftime('%d-%m-%Y', TickIssueDate) order by count(*) desc\")\n",
    "by_day.head()"
   ]
  },
  {
   "cell_type": "code",
   "execution_count": null,
   "metadata": {},
   "outputs": [],
   "source": [
    "#Make a color Dictionary for each ticket Type\n",
    "colordict = {'STR CLEAN': 'cyan', 'RES/OT': 'green', 'MTR OUT DT': 'red', 'DRIVEWAY': 'orange', 'DBL PARK':'blue'}\n",
    "df = result_query(\"Select * from ticket_data where strftime('%d-%m-%Y', TickIssueDate) = '05-09-2017'\")"
   ]
  },
  {
   "cell_type": "code",
   "execution_count": null,
   "metadata": {},
   "outputs": [],
   "source": [
    "df"
   ]
  },
  {
   "cell_type": "code",
   "execution_count": null,
   "metadata": {},
   "outputs": [],
   "source": [
    "address_data = result_query('Select * from address_data')\n",
    "df = df.merge(address_data, left_on = 'address', right_on = 'address')\n",
    "                                 "
   ]
  },
  {
   "cell_type": "code",
   "execution_count": null,
   "metadata": {},
   "outputs": [],
   "source": [
    "df['color'] = df['ViolationDesc'].apply(lambda x: colordict.get(x, 'magenta'))\n",
    "df"
   ]
  },
  {
   "cell_type": "code",
   "execution_count": null,
   "metadata": {},
   "outputs": [],
   "source": [
    "streetvolume = gpd.read_file(proc_folder + './final_streets/SF_Street_Data.shp')\n",
    "geometry = [Point(xy) for xy in zip(df.lon, df.lat)]\n",
    "crs = {'init': 'epsg:4326'}\n",
    "gdf = GeoDataFrame(df, crs=crs, geometry=geometry)\n",
    "nhoods = gpd.read_file(raw_folder + 'AnalysisNeighborhoods.geojson')\n",
    "\n",
    "base = streetvolume.plot(color = 'black', figsize = (20, 20), alpha =.25, linewidth = 1)\n",
    "for key, value in colordict.items():\n",
    "    gdf[gdf.ViolationDesc == key].plot(ax = base, marker = \"*\", color=value, markersize=5);\n",
    "nhoods.plot(ax = base, alpha = .15, color = 'gray')\n"
   ]
  },
  {
   "cell_type": "code",
   "execution_count": null,
   "metadata": {
    "scrolled": false
   },
   "outputs": [],
   "source": [
    "from IPython.display import HTML\n",
    "from matplotlib.animation import FuncAnimation\n",
    "fig = plt.figure(figsize = (20,20))\n",
    "plt.rcParams[\"animation.html\"] = \"jshtml\"\n",
    "plt.rcParams[\"animation.embed_limit\"] = 100\n",
    "ax = plt.axes()\n",
    "df = result_query(\"Select * from ticket_data where strftime('%d-%m-%Y', TickIssueDate) = '05-09-2017'\")\n",
    "address_data = result_query('Select * from address_data')\n",
    "df = df.merge(address_data, left_on = 'address', right_on = 'address')\n",
    "df['color'] = df['ViolationDesc'].apply(lambda x: colordict.get(x, 'magenta'))\n",
    "ax.set_title('San Francisco Parking tickets on 05-09-2017', fontdict = {'fontsize' : 20})\n",
    "geometry = [Point(xy) for xy in zip(df.lon, df.lat)]\n",
    "crs = {'init': 'epsg:4326'}\n",
    "gdf = GeoDataFrame(df, crs=crs, geometry=geometry)\n",
    "nhoods = gpd.read_file(raw_folder + 'AnalysisNeighborhoods.geojson')\n",
    "plt.axis('off')\n",
    "plt.tight_layout()\n",
    "\n",
    "\n",
    "nhoods.plot( ax = ax, alpha = .15, color = 'gray')\n",
    "# First set up the figure, the axis, and the plot element we want to animate\n",
    "streetvolume.plot(ax =ax, color = 'black', figsize = (20, 20), alpha =.25, linewidth = 1)\n",
    "gdf.sort_values(by = 'TickIssueDate', inplace = True)\n",
    "gdf['TickIssueDate'] = gdf['TickIssueDate'].apply(lambda x: dt.datetime.strptime(x, '%Y-%m-%d %H:%M:%S'))\n",
    "gdf['TickIssueTime'] = gdf['TickIssueDate'].apply(lambda x: x.time().hour*4 + int(x.time().minute / 15))\n",
    "gdf.set_index('TickIssueTime', inplace = True)\n",
    "ttl = ax.text(.5, 1.05, '', transform = ax.transAxes, va='center')\n",
    "numframes = gdf.shape[0]\n",
    "i = 0\n",
    "\n",
    "def animate(i):\n",
    "    df = gdf[i-1:i]\n",
    "    timestr = (str(math.floor(i/4)) + ':' + str((i %4) * 15))\n",
    "    colors = df['color']\n",
    "    iterar = df.plot(ax = ax, marker = '*', c = colors, markersize = 10 )\n",
    "    ttl.set_text(timestr)\n",
    "    i += 1\n",
    "    return iterar\n",
    "\n",
    "ani = FuncAnimation(fig, animate, repeat=False, interval=94)\n",
    "#plt.show()\n",
    "HTML(ani.to_jshtml())\n",
    "\n"
   ]
  },
  {
   "cell_type": "markdown",
   "metadata": {},
   "source": [
    "# Recent Street Cleaning\n",
    "This will take an address as an argument, and return the closest streets that were sweeped that day. These are typically easier to park in. Optional argument for streets that have never gotten a 'Residential Over Time Ticket'"
   ]
  },
  {
   "cell_type": "code",
   "execution_count": null,
   "metadata": {},
   "outputs": [],
   "source": [
    "streetsweeping = gpd.read_file(proc_folder + 'final_sweeping.shp')\n",
    "weekdaydict = {0: 'Mon', 1:'Tues', 2:'Wed', 3:'Thu', 4:'Fri', 5:'Sat', 6:'Sun'}\n",
    "time =  dt.datetime.now()\n",
    "cleaned_today = streetsweeping[streetsweeping.weekday == weekdaydict[time.weekday()]]\n",
    "cleaned_today.plot(figsize = (20,20))\n",
    "plt.title('Recently Cleaned Streets')\n",
    "#Lets make a helper function as a bonus to identify recently cleaned streets that would be easier to park at"
   ]
  },
  {
   "cell_type": "code",
   "execution_count": null,
   "metadata": {},
   "outputs": [],
   "source": [
    "from math import ceil\n",
    "\n",
    "def week_of_month(dt):\n",
    "    \"\"\" Returns the week of the month for the specified date.\n",
    "    \"\"\"\n",
    "\n",
    "    first_day = dt.replace(day=1)\n",
    "\n",
    "    dom = dt.day\n",
    "    adjusted_dom = dom + first_day.weekday()\n",
    "\n",
    "    return int(ceil(adjusted_dom/7.0))"
   ]
  },
  {
   "cell_type": "code",
   "execution_count": null,
   "metadata": {},
   "outputs": [],
   "source": [
    "streetvolume.head()"
   ]
  },
  {
   "cell_type": "code",
   "execution_count": null,
   "metadata": {},
   "outputs": [],
   "source": [
    "streetvolume.dtypes"
   ]
  },
  {
   "cell_type": "code",
   "execution_count": null,
   "metadata": {},
   "outputs": [],
   "source": [
    "streetvolume = gpd.read_file(proc_folder + 'final_streets/SF_Street_Data.shp')\n",
    "streetvolume = streetvolume[['vvol_carea', 'geometry']]\n",
    "streetvolume = streetvolume.to_crs(epsg = 4326)\n",
    "streetvolume.plot()"
   ]
  },
  {
   "cell_type": "code",
   "execution_count": null,
   "metadata": {},
   "outputs": [],
   "source": [
    "streetindex = streetvolume.index.values.astype(str)\n",
    "streetvolume.set_index(streetindex, inplace = True)"
   ]
  },
  {
   "cell_type": "code",
   "execution_count": null,
   "metadata": {},
   "outputs": [],
   "source": [
    "da = streetvolume.index.values"
   ]
  },
  {
   "cell_type": "code",
   "execution_count": null,
   "metadata": {},
   "outputs": [],
   "source": [
    "da"
   ]
  },
  {
   "cell_type": "code",
   "execution_count": null,
   "metadata": {},
   "outputs": [],
   "source": [
    "streetvolume"
   ]
  },
  {
   "cell_type": "code",
   "execution_count": null,
   "metadata": {},
   "outputs": [],
   "source": [
    "base = streetvolume.plot( column = 'vvol_carea', cmap = 'RdYlGn', alpha = .75)\n",
    "mplleaflet.show(fig=base.figure, crs=streetvolume.crs, tiles='cartodb_positron')"
   ]
  },
  {
   "cell_type": "code",
   "execution_count": null,
   "metadata": {},
   "outputs": [],
   "source": [
    "\n",
    "\n",
    "def find_recent_street_cleaning(streetnumber, streetname, ResOT =False):\n",
    "    ad = result_query(\"Select * from address_data where street = '\" + streetname + \"'\" )\n",
    "    if ad.shape[0] == 0:\n",
    "        return print('Could not find streetname')\n",
    "    ad['delta'] = np.abs(ad['number'] - streetnumber)\n",
    "    ad.sort_values(by = 'delta', inplace = True)\n",
    "    ad = ad.iloc[0]\n",
    "    df = streetsweeping\n",
    "    point = Point(ad.lon, ad.lat)\n",
    "    if ResOT == True:\n",
    "        invalid_ids = result_query('Select distinct lineid from address_data t1 join ticket_data t2 on '\n",
    "                                  \" t1.address = t2.address where ViolationDesc = 'RES/OT' \")\n",
    "        \n",
    "        df = df[df.lineid.isin(invalid_ids['lineid']) == False]\n",
    "        \n",
    "    weekdaydict = {0: 'Mon', 1:'Tues', 2:'Wed', 3:'Thu', 4:'Fri', 5:'Sat', 6:'Sun'}\n",
    "    time =  dt.datetime.now()\n",
    "    \n",
    "    colname = 'week' + str(week_of_month(time)) + 'ofmon'\n",
    "    cleaned_today = df[(df.weekday == weekdaydict[time.weekday()]) & (df[colname] == 1)]\n",
    "    not_today = df[(df.weekday != weekdaydict[time.weekday()]) | (df[colname] == 0)]\n",
    "    nhoods = gpd.read_file(raw_folder + '/AnalysisNeighborhoods.geojson')\n",
    "    cleaned_today['distance'] = cleaned_today['geometry'].apply(lambda x: point.distance(x))\n",
    "    cleaned_today.sort_values(by = 'distance', inplace = True)\n",
    "    cleaned_today_closest = cleaned_today[:25]\n",
    "    \n",
    "\n",
    "\n",
    "    #ax = not_today.plot(color = 'red', alpha = .15)\n",
    "    ax = cleaned_today.plot( color = 'yellow', alpha = .75)\n",
    "    cleaned_today[:500].plot(ax = ax, color = 'green', alpha = 1)\n",
    "    streetvolume.plot(ax = ax, column = 'vvol_carea', cmap = 'RdYlGn')\n",
    "    circleaddress = matplotlib.patches.Circle((ad['lon'], ad['lat']), radius = 5)\n",
    "    mplleaflet.show(fig=ax.figure, crs=cleaned_today.crs, tiles='cartodb_positron')\n",
    "    return ax\n",
    "                              "
   ]
  },
  {
   "cell_type": "code",
   "execution_count": null,
   "metadata": {
    "scrolled": false
   },
   "outputs": [],
   "source": [
    "p = find_recent_street_cleaning(980, 'BUSH ST', ResOT =False\n",
    "                            )\n",
    "plt.show()"
   ]
  },
  {
   "cell_type": "markdown",
   "metadata": {},
   "source": [
    "# Estimated Sweeping Time\n",
    "Finding a spot is a tough gig in San Francisco, so I've found the best practice is to know when the sweeping truck is coming by and try to follow him. Unsurprisingly, I'm not the only one who does this and it usually results in a death match between all cars. If you put in an address here, I'll give you an estimate as well a confidence interval on the range of times I would expect the truck to arrive, so you don't have to sit around and wait. "
   ]
  },
  {
   "cell_type": "code",
   "execution_count": null,
   "metadata": {},
   "outputs": [],
   "source": [
    "by_route = result_query(\"Select  strftime('%Y-%m-%d', TickIssueDate) as sweepdate, lineid, \"\n",
    "                        \" max(strftime('%H:%M',TickIssueDate)) as last_ticket from ticket_data t1 \"\n",
    "                       \" join address_data t2 on t1.address = t2.address WHERE ViolationDesc = 'STR CLEAN' \"\n",
    "                    \" group by strftime('%Y-%m-%d', TickIssueDate) ,  lineid\")"
   ]
  },
  {
   "cell_type": "code",
   "execution_count": null,
   "metadata": {},
   "outputs": [],
   "source": [
    "by_route['weekday'] = by_route['sweepdate'].apply(lambda x: pd.to_datetime(x).weekday())\n",
    "by_route['mins'] = by_route['last_ticket'].apply(lambda x: int(x.split(':')[0]) * 60 + int(x.split(':')[1]))"
   ]
  },
  {
   "cell_type": "code",
   "execution_count": null,
   "metadata": {},
   "outputs": [],
   "source": [
    "def mean_confidence_interval(data, confidence=0.95):\n",
    "    a = 1.0 * np.array(data)\n",
    "    n = len(a)\n",
    "    m, se = np.mean(a), stats.sem(a)\n",
    "    h = se * stats.t.ppf((1 + confidence) / 2., n-1)\n",
    "    return m, m-h, m+h"
   ]
  },
  {
   "cell_type": "code",
   "execution_count": null,
   "metadata": {},
   "outputs": [],
   "source": [
    "def min_to_time(mins):\n",
    "    return str(math.ceil(mins / 60)) + \":\" + str(int(mins%60))"
   ]
  },
  {
   "cell_type": "code",
   "execution_count": null,
   "metadata": {},
   "outputs": [],
   "source": [
    "def return_conf_interval(number, street):\n",
    "    ad = result_query(\"Select * from address_data where street = '\" + street + \"'\" )\n",
    "    if ad.shape[0] == 0:\n",
    "        return print('Could not find streetname')\n",
    "    ad['delta'] = np.abs(ad['number'] - number)\n",
    "    ad.sort_values(by = 'delta', inplace = True)\n",
    "    streeline = ad['lineid'].iloc[0]\n",
    "    street_data = by_route[by_route.lineid == streeline]\n",
    "    if street_data.shape[0] == 0:\n",
    "        return print('No street sweeping ticket data found for closest address. ')\n",
    "    mean, low, high = mean_confidence_interval(street_data['mins'])\n",
    "    print(\"low: \" + min_to_time(low))\n",
    "    print(\"mean: \" + min_to_time(mean))\n",
    "    print(\"High: \" + min_to_time(high))"
   ]
  },
  {
   "cell_type": "code",
   "execution_count": null,
   "metadata": {},
   "outputs": [],
   "source": [
    "return_conf_interval(980, 'BUSH ST')"
   ]
  },
  {
   "cell_type": "code",
   "execution_count": null,
   "metadata": {},
   "outputs": [],
   "source": []
  },
  {
   "cell_type": "code",
   "execution_count": null,
   "metadata": {},
   "outputs": [],
   "source": []
  }
 ],
 "metadata": {
  "kernelspec": {
   "display_name": "Python 3",
   "language": "python",
   "name": "python3"
  },
  "language_info": {
   "codemirror_mode": {
    "name": "ipython",
    "version": 3
   },
   "file_extension": ".py",
   "mimetype": "text/x-python",
   "name": "python",
   "nbconvert_exporter": "python",
   "pygments_lexer": "ipython3",
   "version": "3.6.6"
  }
 },
 "nbformat": 4,
 "nbformat_minor": 2
}
